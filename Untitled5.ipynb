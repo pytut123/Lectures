{
 "cells": [
  {
   "cell_type": "code",
   "execution_count": 4,
   "id": "b215fafa",
   "metadata": {},
   "outputs": [],
   "source": [
    "class Person:\n",
    "    \"This is a person class\"\n",
    "    def __init__(self, fname, lname):\n",
    "        self.firstname = fname\n",
    "        self.lastname = lname\n",
    "    def printname(self):\n",
    "        print(self.firstname, self.lastname)"
   ]
  },
  {
   "cell_type": "code",
   "execution_count": 34,
   "id": "0f58a924",
   "metadata": {},
   "outputs": [],
   "source": [
    "import random\n",
    "\n"
   ]
  },
  {
   "cell_type": "code",
   "execution_count": null,
   "id": "6b27689f",
   "metadata": {},
   "outputs": [],
   "source": [
    "what is mean?\n",
    "\n",
    "What is a mode"
   ]
  },
  {
   "cell_type": "code",
   "execution_count": null,
   "id": "26f055d5",
   "metadata": {},
   "outputs": [],
   "source": [
    "random.randint(0,len(file)-1)"
   ]
  },
  {
   "cell_type": "code",
   "execution_count": 33,
   "id": "01bf7256",
   "metadata": {},
   "outputs": [
    {
     "name": "stdout",
     "output_type": "stream",
     "text": [
      "Enter the deatils\n",
      "Do you want to continue (Y/N)y\n",
      "Enter the deatils\n",
      "Do you want to continue (Y/N)y\n",
      "Enter the deatils\n",
      "Do you want to continue (Y/N)N\n"
     ]
    }
   ],
   "source": [
    "choice='Y'\n",
    "while choice.lower()!='n':\n",
    "    print(\"Enter the deatils\")\n",
    "    choice=input(\"Do you want to continue (Y/N)\")"
   ]
  },
  {
   "cell_type": "code",
   "execution_count": 5,
   "id": "b4d88e40",
   "metadata": {},
   "outputs": [],
   "source": [
    "class Student(Person):\n",
    "    def reversed_name(self):\n",
    "        print(self.firstname[: : -1], self.lastname[: : -1])"
   ]
  },
  {
   "cell_type": "code",
   "execution_count": 6,
   "id": "eec49939",
   "metadata": {},
   "outputs": [],
   "source": [
    "class Junior(Student):\n",
    "    def __init__(self, fname, lname,grade):\n",
    "        super().__init__(fname, lname)\n",
    "        self.grade=grade\n",
    "        \n",
    "    def print_details(self):\n",
    "        print(f\"I am a student of grade: {self.grade} and my name is {self.firstname} {self.lastname}\")\n",
    "    "
   ]
  },
  {
   "cell_type": "code",
   "execution_count": 8,
   "id": "17562db7",
   "metadata": {},
   "outputs": [],
   "source": [
    "j1=Junior(\"Nishant\",\"Malik\",12)"
   ]
  },
  {
   "cell_type": "code",
   "execution_count": 10,
   "id": "450c86a3",
   "metadata": {},
   "outputs": [
    {
     "name": "stdout",
     "output_type": "stream",
     "text": [
      "Nishant Malik\n"
     ]
    }
   ],
   "source": [
    "j1.printname()"
   ]
  },
  {
   "cell_type": "code",
   "execution_count": 11,
   "id": "97fd9c61",
   "metadata": {},
   "outputs": [
    {
     "name": "stdout",
     "output_type": "stream",
     "text": [
      "I am a student of grade: 12 and my name is Nishant Malik\n"
     ]
    }
   ],
   "source": [
    "j1.print_details()"
   ]
  },
  {
   "cell_type": "code",
   "execution_count": 24,
   "id": "cc02c768",
   "metadata": {},
   "outputs": [],
   "source": [
    "class Mother:\n",
    "    def __init__(self, mothername):\n",
    "        self.mothername = mothername\n",
    "    def mother(self):\n",
    "        print(self.mothername)\n",
    "\n"
   ]
  },
  {
   "cell_type": "code",
   "execution_count": 25,
   "id": "9db9962b",
   "metadata": {},
   "outputs": [],
   "source": [
    "class Child1(Mother):\n",
    "    def __init__(self, mothername,myname):\n",
    "        self.mothername = mothername\n",
    "        self.myname = myname\n",
    "        \n",
    "    def mother(self):\n",
    "        print(\"Mother :\", self.mothername,'and she is mother of',self.myname)\n",
    "        \n",
    "    def mynameis1(self):\n",
    "        print(f'My name is : {self.myname} and i am first child')\n",
    "\n",
    "        \n",
    "\n",
    "\n",
    "    "
   ]
  },
  {
   "cell_type": "code",
   "execution_count": 26,
   "id": "92003fe4",
   "metadata": {},
   "outputs": [],
   "source": [
    "class Child2(Mother):\n",
    "    def __init__(self, mothername,myname):\n",
    "        self.mothername = mothername\n",
    "        self.myname = myname\n",
    "        \n",
    "    def mother(self):\n",
    "        print(\"Mother :\", self.mothername,'and she is mother of',self.myname)\n",
    "        \n",
    "    def mynameis1(self):\n",
    "        print(f'My name is : {self.myname} and i am second child')\n",
    "\n",
    "        \n",
    "\n",
    "\n",
    "    "
   ]
  },
  {
   "cell_type": "code",
   "execution_count": 27,
   "id": "50fa3b60",
   "metadata": {},
   "outputs": [],
   "source": [
    "c1=Child1(\"Mother\", \"Child\")"
   ]
  },
  {
   "cell_type": "code",
   "execution_count": 28,
   "id": "699f207f",
   "metadata": {},
   "outputs": [
    {
     "name": "stdout",
     "output_type": "stream",
     "text": [
      "Mother : Mother and she is mother of Child\n"
     ]
    }
   ],
   "source": [
    "c1.mother()"
   ]
  },
  {
   "cell_type": "code",
   "execution_count": 29,
   "id": "fcd464b2",
   "metadata": {},
   "outputs": [],
   "source": [
    "m1=Mother('Mother')"
   ]
  },
  {
   "cell_type": "code",
   "execution_count": 30,
   "id": "9587f0e2",
   "metadata": {},
   "outputs": [
    {
     "name": "stdout",
     "output_type": "stream",
     "text": [
      "Mother\n"
     ]
    }
   ],
   "source": [
    "m1.mother()"
   ]
  },
  {
   "cell_type": "code",
   "execution_count": 58,
   "id": "8e243996",
   "metadata": {},
   "outputs": [],
   "source": [
    "ls=[1,2,3,4,5]\n",
    "ls1=[6,7,8,9,10]"
   ]
  },
  {
   "cell_type": "code",
   "execution_count": 62,
   "id": "7a63f4e2",
   "metadata": {},
   "outputs": [
    {
     "data": {
      "text/plain": [
       "{1: 6, 2: 7, 3: 8, 4: 9, 5: 10}"
      ]
     },
     "execution_count": 62,
     "metadata": {},
     "output_type": "execute_result"
    }
   ],
   "source": [
    "dict((zip(ls,ls1)))"
   ]
  },
  {
   "cell_type": "code",
   "execution_count": 54,
   "id": "1099caa5",
   "metadata": {},
   "outputs": [
    {
     "name": "stdout",
     "output_type": "stream",
     "text": [
      "Mother : Mother and she is mother of Child\n"
     ]
    }
   ],
   "source": [
    "c1.mother()"
   ]
  },
  {
   "cell_type": "code",
   "execution_count": 14,
   "id": "16a38183",
   "metadata": {},
   "outputs": [],
   "source": [
    "s1=Student(\"Nishant\",\"Malik\")"
   ]
  },
  {
   "cell_type": "code",
   "execution_count": 18,
   "id": "440c4de4",
   "metadata": {},
   "outputs": [],
   "source": [
    "j1=Junior(\"Nishant\",\"Malik\",12)"
   ]
  },
  {
   "cell_type": "code",
   "execution_count": 22,
   "id": "4d641af4",
   "metadata": {},
   "outputs": [
    {
     "name": "stdout",
     "output_type": "stream",
     "text": [
      "tnahsiN kilaM\n"
     ]
    }
   ],
   "source": [
    "j1.reversed_name()"
   ]
  },
  {
   "cell_type": "code",
   "execution_count": 23,
   "id": "895e569a",
   "metadata": {},
   "outputs": [
    {
     "name": "stdout",
     "output_type": "stream",
     "text": [
      "Nishant Malik\n"
     ]
    }
   ],
   "source": [
    "j1.printname()"
   ]
  },
  {
   "cell_type": "code",
   "execution_count": 21,
   "id": "069d8b5c",
   "metadata": {},
   "outputs": [
    {
     "name": "stdout",
     "output_type": "stream",
     "text": [
      "I am a student of grade: 12 and my name is Nishant Malik\n"
     ]
    }
   ],
   "source": [
    "j1.print_details()"
   ]
  },
  {
   "cell_type": "code",
   "execution_count": 8,
   "id": "afd894c6",
   "metadata": {},
   "outputs": [
    {
     "name": "stdout",
     "output_type": "stream",
     "text": [
      "Nishant Malik\n"
     ]
    }
   ],
   "source": [
    "s1.printname()"
   ]
  },
  {
   "cell_type": "code",
   "execution_count": 15,
   "id": "9906b2c8",
   "metadata": {},
   "outputs": [
    {
     "name": "stdout",
     "output_type": "stream",
     "text": [
      "tnahsiN kilaM\n"
     ]
    }
   ],
   "source": [
    "s1.reversed_name()"
   ]
  }
 ],
 "metadata": {
  "kernelspec": {
   "display_name": "Python 3 (ipykernel)",
   "language": "python",
   "name": "python3"
  },
  "language_info": {
   "codemirror_mode": {
    "name": "ipython",
    "version": 3
   },
   "file_extension": ".py",
   "mimetype": "text/x-python",
   "name": "python",
   "nbconvert_exporter": "python",
   "pygments_lexer": "ipython3",
   "version": "3.9.13"
  }
 },
 "nbformat": 4,
 "nbformat_minor": 5
}
